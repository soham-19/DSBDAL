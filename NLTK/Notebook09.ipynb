{
 "cells": [
  {
   "cell_type": "markdown",
   "id": "4113835b-44ea-422c-8eb4-be186a84f167",
   "metadata": {},
   "source": [
    "# Notebook 9"
   ]
  },
  {
   "cell_type": "markdown",
   "id": "28d95873-b4a4-4860-b40b-934e4a254f37",
   "metadata": {},
   "source": [
    "For given text apply following preprocessing methods:\n",
    "1. Tokenization\n",
    "2. POS Tagging\n",
    "3. Stop word Removal\n",
    "4. Lemmatization\n",
    "5. Stemming"
   ]
  },
  {
   "cell_type": "code",
   "execution_count": 1,
   "id": "440c4a26-55c2-4123-a547-a1c2fa0f322e",
   "metadata": {},
   "outputs": [],
   "source": [
    "# Import Libraries"
   ]
  },
  {
   "cell_type": "code",
   "execution_count": 2,
   "id": "e908c338-428d-4a1a-b98e-e47adf716aa5",
   "metadata": {},
   "outputs": [
    {
     "name": "stderr",
     "output_type": "stream",
     "text": [
      "[nltk_data] Downloading package wordnet to\n",
      "[nltk_data]     C:\\Users\\Acer\\AppData\\Roaming\\nltk_data...\n",
      "[nltk_data]   Package wordnet is already up-to-date!\n"
     ]
    },
    {
     "data": {
      "text/plain": [
       "True"
      ]
     },
     "execution_count": 2,
     "metadata": {},
     "output_type": "execute_result"
    }
   ],
   "source": [
    "import nltk\n",
    "nltk.download('wordnet')"
   ]
  },
  {
   "cell_type": "code",
   "execution_count": 4,
   "id": "fc9855cc-6d29-48df-9e6c-769001f24d37",
   "metadata": {},
   "outputs": [
    {
     "name": "stderr",
     "output_type": "stream",
     "text": [
      "[nltk_data] Downloading package punkt to\n",
      "[nltk_data]     C:\\Users\\Acer\\AppData\\Roaming\\nltk_data...\n",
      "[nltk_data]   Package punkt is already up-to-date!\n",
      "[nltk_data] Downloading package averaged_perceptron_tagger to\n",
      "[nltk_data]     C:\\Users\\Acer\\AppData\\Roaming\\nltk_data...\n",
      "[nltk_data]   Package averaged_perceptron_tagger is already up-to-\n",
      "[nltk_data]       date!\n",
      "[nltk_data] Downloading package wordnet to\n",
      "[nltk_data]     C:\\Users\\Acer\\AppData\\Roaming\\nltk_data...\n",
      "[nltk_data]   Package wordnet is already up-to-date!\n",
      "[nltk_data] Downloading package stopwords to\n",
      "[nltk_data]     C:\\Users\\Acer\\AppData\\Roaming\\nltk_data...\n",
      "[nltk_data]   Package stopwords is already up-to-date!\n"
     ]
    },
    {
     "data": {
      "text/plain": [
       "True"
      ]
     },
     "execution_count": 4,
     "metadata": {},
     "output_type": "execute_result"
    }
   ],
   "source": [
    "import nltk\n",
    "from nltk.tokenize import word_tokenize\n",
    "from nltk import pos_tag\n",
    "from nltk.corpus import stopwords\n",
    "from nltk.stem import WordNetLemmatizer, PorterStemmer\n",
    "import matplotlib.pyplot as plt\n",
    "import seaborn as sns\n",
    "\n",
    "nltk.download('punkt')\n",
    "nltk.download('averaged_perceptron_tagger')\n",
    "nltk.download('wordnet')\n",
    "nltk.download('stopwords')\n"
   ]
  },
  {
   "cell_type": "code",
   "execution_count": 5,
   "id": "f39e689d-5307-4d1a-a24e-50975b39c273",
   "metadata": {},
   "outputs": [
    {
     "name": "stdout",
     "output_type": "stream",
     "text": [
      "Tokenization: ['The', 'quick', 'brown', 'fox', 'jumps', 'over', 'the', 'lazy', 'dog', '.', 'The', 'dogs', 'are', 'barking', 'loudly', '.']\n"
     ]
    }
   ],
   "source": [
    "# Sample text\n",
    "text = \"The quick brown fox jumps over the lazy dog. The dogs are barking loudly.\"\n",
    "\n",
    "# Tokenization\n",
    "tokens = word_tokenize(text)\n",
    "print(\"Tokenization:\", tokens)\n"
   ]
  },
  {
   "cell_type": "code",
   "execution_count": 6,
   "id": "eda5d409-641c-4e74-b78c-9fe6faa2df7c",
   "metadata": {},
   "outputs": [
    {
     "name": "stdout",
     "output_type": "stream",
     "text": [
      "POS Tagging: [('The', 'DT'), ('quick', 'JJ'), ('brown', 'NN'), ('fox', 'NN'), ('jumps', 'VBZ'), ('over', 'IN'), ('the', 'DT'), ('lazy', 'JJ'), ('dog', 'NN'), ('.', '.'), ('The', 'DT'), ('dogs', 'NNS'), ('are', 'VBP'), ('barking', 'VBG'), ('loudly', 'RB'), ('.', '.')]\n"
     ]
    }
   ],
   "source": [
    "# POS Tagging\n",
    "pos_tags = pos_tag(tokens)\n",
    "print(\"POS Tagging:\", pos_tags)\n"
   ]
  },
  {
   "cell_type": "code",
   "execution_count": 7,
   "id": "f7ad50f5-a827-4c8d-a618-f306dbc9036f",
   "metadata": {},
   "outputs": [
    {
     "name": "stdout",
     "output_type": "stream",
     "text": [
      "Stop word Removal: ['quick', 'brown', 'fox', 'jumps', 'lazy', 'dog', '.', 'dogs', 'barking', 'loudly', '.']\n"
     ]
    }
   ],
   "source": [
    "# Stop word removal\n",
    "stop_words = set(stopwords.words('english'))\n",
    "filtered_tokens = [word for word in tokens if word.lower() not in stop_words]\n",
    "print(\"Stop word Removal:\", filtered_tokens)\n"
   ]
  },
  {
   "cell_type": "code",
   "execution_count": 8,
   "id": "dc9f659c-12ac-4f73-9069-540ca902f363",
   "metadata": {},
   "outputs": [
    {
     "name": "stdout",
     "output_type": "stream",
     "text": [
      "Lemmatization: ['quick', 'brown', 'fox', 'jump', 'lazy', 'dog', '.', 'dog', 'barking', 'loudly', '.']\n"
     ]
    }
   ],
   "source": [
    "# Lemmatization\n",
    "lemmatizer = WordNetLemmatizer()\n",
    "lemmatized_tokens = [lemmatizer.lemmatize(word) for word in filtered_tokens]\n",
    "print(\"Lemmatization:\", lemmatized_tokens)\n"
   ]
  },
  {
   "cell_type": "code",
   "execution_count": 9,
   "id": "02ea8435-3406-4eae-be1c-f788fded0a16",
   "metadata": {},
   "outputs": [
    {
     "name": "stdout",
     "output_type": "stream",
     "text": [
      "Stemming: ['quick', 'brown', 'fox', 'jump', 'lazi', 'dog', '.', 'dog', 'bark', 'loudli', '.']\n"
     ]
    }
   ],
   "source": [
    "# Stemming\n",
    "stemmer = PorterStemmer()\n",
    "stemmed_tokens = [stemmer.stem(word) for word in filtered_tokens]\n",
    "print(\"Stemming:\", stemmed_tokens)\n"
   ]
  },
  {
   "cell_type": "code",
   "execution_count": 10,
   "id": "0996283e-ad68-4320-b0a2-128a2c979fc6",
   "metadata": {},
   "outputs": [
    {
     "data": {
      "image/png": "[encoded data removed]",
      "text/plain": [
       "<Figure size 1000x500 with 1 Axes>"
      ]
     },
     "metadata": {},
     "output_type": "display_data"
    }
   ],
   "source": [
    "# Plot word frequency\n",
    "plt.figure(figsize=(10, 5))\n",
    "sns.countplot(filtered_tokens)\n",
    "plt.title('Word Frequency')\n",
    "plt.xlabel('Words')\n",
    "plt.ylabel('Frequency')\n",
    "plt.xticks(rotation=45)\n",
    "plt.show()\n"
   ]
  },
  {
   "cell_type": "markdown",
   "id": "1ed5839c-0233-4e23-8cfe-f09aecfaf5ab",
   "metadata": {},
   "source": [
    "Sure, let's delve into some basic concepts about Natural Language Processing (NLP) and the NLTK library:\n",
    "\n",
    "1. **Natural Language Processing (NLP)**:\n",
    "   - Natural Language Processing (NLP) is a field of artificial intelligence that focuses on enabling computers to understand, interpret, and generate human language in a way that is both meaningful and useful.\n",
    "   - It involves the interaction between computers and humans using natural language.\n",
    "   - NLP techniques are used in various applications such as language translation, sentiment analysis, text summarization, speech recognition, and more.\n",
    "\n",
    "2. **NLTK (Natural Language Toolkit)**:\n",
    "   - NLTK is a leading platform for building Python programs to work with human language data.\n",
    "   - It provides easy-to-use interfaces to over 50 corpora and lexical resources, such as WordNet.\n",
    "   - NLTK also includes a suite of text processing libraries for tasks such as tokenization, stemming, tagging, parsing, and semantic reasoning.\n",
    "   - It is widely used in education, research, and industry for NLP-related tasks due to its simplicity and extensibility.\n",
    "\n",
    "3. **Tokenization**:\n",
    "   - Tokenization is the process of breaking down a text into individual words or tokens.\n",
    "   - NLTK provides various tokenizers that can handle different types of text data, including word tokenization, sentence tokenization, and more.\n",
    "   - Tokenization is a crucial step in many NLP tasks as it forms the foundation for further analysis and processing of text data.\n",
    "\n",
    "4. **Part-of-Speech (POS) Tagging**:\n",
    "   - POS tagging involves assigning a part-of-speech tag (e.g., noun, verb, adjective) to each word in a sentence.\n",
    "   - NLTK provides pre-trained models and tools for POS tagging, making it easy to analyze the grammatical structure of text.\n",
    "   - POS tagging is essential for tasks such as text classification, information retrieval, and syntax analysis.\n",
    "\n",
    "5. **Stopwords**:\n",
    "   - Stopwords are common words like \"the\", \"is\", \"and\", etc., that are often removed from text during preprocessing.\n",
    "   - NLTK provides a list of stopwords for various languages, allowing users to filter out these common words from their text data.\n",
    "   - Removing stopwords helps reduce noise in the data and improves the performance of NLP models.\n",
    "\n",
    "6. **Lemmatization and Stemming**:\n",
    "   - Lemmatization and stemming are techniques used to reduce words to their base or root form.\n",
    "   - Lemmatization aims to transform words to their canonical form (lemma), while stemming involves removing suffixes to obtain the root form.\n",
    "   - NLTK provides modules for both lemmatization and stemming, allowing users to preprocess text data before further analysis.\n",
    "\n",
    "Overall, NLTK is a powerful tool for working with text data in Python, offering a wide range of functionalities for NLP tasks. It simplifies the process of text analysis and enables users to perform various linguistic operations with ease."
   ]
  },
  {
   "cell_type": "code",
   "execution_count": null,
   "id": "bd0a5b0b-905f-4df1-99f0-3c9a34ea2aab",
   "metadata": {},
   "outputs": [],
   "source": []
  }
 ],
 "metadata": {
  "kernelspec": {
   "display_name": "Python 3 (ipykernel)",
   "language": "python",
   "name": "python3"
  },
  "language_info": {
   "codemirror_mode": {
    "name": "ipython",
    "version": 3
   },
   "file_extension": ".py",
   "mimetype": "text/x-python",
   "name": "python",
   "nbconvert_exporter": "python",
   "pygments_lexer": "ipython3",
   "version": "3.12.3"
  }
 },
 "nbformat": 4,
 "nbformat_minor": 5
}
