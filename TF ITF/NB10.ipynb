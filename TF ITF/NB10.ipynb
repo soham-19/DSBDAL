{
 "cells": [
  {
   "cell_type": "code",
   "execution_count": 8,
   "id": "22a41dcf-bada-4cb3-a6f7-c37c7db6b2df",
   "metadata": {},
   "outputs": [],
   "source": [
    "import nltk\n",
    "from nltk.tokenize import word_tokenize\n",
    "from nltk.corpus import stopwords\n",
    "import math"
   ]
  },
  {
   "cell_type": "code",
   "execution_count": 2,
   "id": "35873d92-6da9-448c-a1cc-503874843929",
   "metadata": {},
   "outputs": [],
   "source": [
    "document = \"\"\"\n",
    "            Natural language processing (NLP) is a field of artificial intelligence \n",
    "            concerned with the interaction between computers and humans in natural \n",
    "            language. It focuses on the interaction between computers and humans \n",
    "            through natural language processing. NLP techniques are used to analyze, \n",
    "            understand, and generate human language in a valuable way.\n",
    "            \"\"\""
   ]
  },
  {
   "cell_type": "code",
   "execution_count": 3,
   "id": "5ceaf841-2609-42a8-84c5-4fc0ba92c78c",
   "metadata": {},
   "outputs": [],
   "source": [
    "tf = {}\n",
    "itf = {}\n",
    "score = {}"
   ]
  },
  {
   "cell_type": "code",
   "execution_count": 4,
   "id": "16afc69b-6b98-484d-809f-ab2193f75efb",
   "metadata": {},
   "outputs": [
    {
     "name": "stdout",
     "output_type": "stream",
     "text": [
      "Tokens : ['Natural', 'language', 'processing', '(', 'NLP', ')', 'is', 'a', 'field', 'of', 'artificial', 'intelligence', 'concerned', 'with', 'the', 'interaction', 'between', 'computers', 'and', 'humans', 'in', 'natural', 'language', '.', 'It', 'focuses', 'on', 'the', 'interaction', 'between', 'computers', 'and', 'humans', 'through', 'natural', 'language', 'processing', '.', 'NLP', 'techniques', 'are', 'used', 'to', 'analyze', ',', 'understand', ',', 'and', 'generate', 'human', 'language', 'in', 'a', 'valuable', 'way', '.']\n"
     ]
    }
   ],
   "source": [
    "tokens = word_tokenize(document)\n",
    "print(\"Tokens :\", tokens)"
   ]
  },
  {
   "cell_type": "code",
   "execution_count": 7,
   "id": "c0d85fad-c346-41f7-9d7a-01e7b2c25bc3",
   "metadata": {},
   "outputs": [
    {
     "name": "stdout",
     "output_type": "stream",
     "text": [
      "Filtered tokens : ['Natural', 'language', 'processing', '(', 'NLP', ')', 'field', 'artificial', 'intelligence', 'concerned', 'interaction', 'computers', 'humans', 'natural', 'language', '.', 'focuses', 'interaction', 'computers', 'humans', 'natural', 'language', 'processing', '.', 'NLP', 'techniques', 'used', 'analyze', ',', 'understand', ',', 'generate', 'human', 'language', 'valuable', 'way', '.']\n"
     ]
    }
   ],
   "source": [
    "stop_words = set(stopwords.words('english'))\n",
    "f_tokens = [word for word in tokens if word.lower() not in stop_words]\n",
    "print(\"Filtered tokens :\",f_tokens )"
   ]
  },
  {
   "cell_type": "code",
   "execution_count": 9,
   "id": "c765d3c7-173d-48f2-ba6c-dc40a17f1d06",
   "metadata": {},
   "outputs": [],
   "source": [
    "for term in f_tokens:\n",
    "    tf[term.lower()] = f_tokens.count(term) / len(f_tokens)\n",
    "    itf[term.lower()] = math.log(len(f_tokens)) / f_tokens.count(term)\n",
    "    score[term.lower()] = tf[term.lower()] * itf[term.lower()]"
   ]
  },
  {
   "cell_type": "code",
   "execution_count": 10,
   "id": "13a2aef5-be92-43c0-84c8-7d7934a7e1dd",
   "metadata": {},
   "outputs": [
    {
     "name": "stdout",
     "output_type": "stream",
     "text": [
      "Key : Natural\n",
      "TF : 0.05405405405405406\n",
      "ITF : 1.8054589563221122\n",
      "Score : 0.09759237601741147\n",
      "Key : language\n",
      "TF : 0.10810810810810811\n",
      "ITF : 0.9027294781610561\n",
      "Score : 0.09759237601741147\n",
      "Key : processing\n",
      "TF : 0.05405405405405406\n",
      "ITF : 1.8054589563221122\n",
      "Score : 0.09759237601741147\n",
      "Key : (\n",
      "TF : 0.02702702702702703\n",
      "ITF : 3.6109179126442243\n",
      "Score : 0.09759237601741147\n",
      "Key : NLP\n",
      "TF : 0.05405405405405406\n",
      "ITF : 1.8054589563221122\n",
      "Score : 0.09759237601741147\n",
      "Key : )\n",
      "TF : 0.02702702702702703\n",
      "ITF : 3.6109179126442243\n",
      "Score : 0.09759237601741147\n",
      "Key : field\n",
      "TF : 0.02702702702702703\n",
      "ITF : 3.6109179126442243\n",
      "Score : 0.09759237601741147\n",
      "Key : artificial\n",
      "TF : 0.02702702702702703\n",
      "ITF : 3.6109179126442243\n",
      "Score : 0.09759237601741147\n",
      "Key : intelligence\n",
      "TF : 0.02702702702702703\n",
      "ITF : 3.6109179126442243\n",
      "Score : 0.09759237601741147\n",
      "Key : concerned\n",
      "TF : 0.02702702702702703\n",
      "ITF : 3.6109179126442243\n",
      "Score : 0.09759237601741147\n",
      "Key : interaction\n",
      "TF : 0.05405405405405406\n",
      "ITF : 1.8054589563221122\n",
      "Score : 0.09759237601741147\n",
      "Key : computers\n",
      "TF : 0.05405405405405406\n",
      "ITF : 1.8054589563221122\n",
      "Score : 0.09759237601741147\n",
      "Key : humans\n",
      "TF : 0.05405405405405406\n",
      "ITF : 1.8054589563221122\n",
      "Score : 0.09759237601741147\n",
      "Key : natural\n",
      "TF : 0.05405405405405406\n",
      "ITF : 1.8054589563221122\n",
      "Score : 0.09759237601741147\n",
      "Key : language\n",
      "TF : 0.10810810810810811\n",
      "ITF : 0.9027294781610561\n",
      "Score : 0.09759237601741147\n",
      "Key : .\n",
      "TF : 0.08108108108108109\n",
      "ITF : 1.2036393042147415\n",
      "Score : 0.09759237601741148\n",
      "Key : focuses\n",
      "TF : 0.02702702702702703\n",
      "ITF : 3.6109179126442243\n",
      "Score : 0.09759237601741147\n",
      "Key : interaction\n",
      "TF : 0.05405405405405406\n",
      "ITF : 1.8054589563221122\n",
      "Score : 0.09759237601741147\n",
      "Key : computers\n",
      "TF : 0.05405405405405406\n",
      "ITF : 1.8054589563221122\n",
      "Score : 0.09759237601741147\n",
      "Key : humans\n",
      "TF : 0.05405405405405406\n",
      "ITF : 1.8054589563221122\n",
      "Score : 0.09759237601741147\n",
      "Key : natural\n",
      "TF : 0.05405405405405406\n",
      "ITF : 1.8054589563221122\n",
      "Score : 0.09759237601741147\n",
      "Key : language\n",
      "TF : 0.10810810810810811\n",
      "ITF : 0.9027294781610561\n",
      "Score : 0.09759237601741147\n",
      "Key : processing\n",
      "TF : 0.05405405405405406\n",
      "ITF : 1.8054589563221122\n",
      "Score : 0.09759237601741147\n",
      "Key : .\n",
      "TF : 0.08108108108108109\n",
      "ITF : 1.2036393042147415\n",
      "Score : 0.09759237601741148\n",
      "Key : NLP\n",
      "TF : 0.05405405405405406\n",
      "ITF : 1.8054589563221122\n",
      "Score : 0.09759237601741147\n",
      "Key : techniques\n",
      "TF : 0.02702702702702703\n",
      "ITF : 3.6109179126442243\n",
      "Score : 0.09759237601741147\n",
      "Key : used\n",
      "TF : 0.02702702702702703\n",
      "ITF : 3.6109179126442243\n",
      "Score : 0.09759237601741147\n",
      "Key : analyze\n",
      "TF : 0.02702702702702703\n",
      "ITF : 3.6109179126442243\n",
      "Score : 0.09759237601741147\n",
      "Key : ,\n",
      "TF : 0.05405405405405406\n",
      "ITF : 1.8054589563221122\n",
      "Score : 0.09759237601741147\n",
      "Key : understand\n",
      "TF : 0.02702702702702703\n",
      "ITF : 3.6109179126442243\n",
      "Score : 0.09759237601741147\n",
      "Key : ,\n",
      "TF : 0.05405405405405406\n",
      "ITF : 1.8054589563221122\n",
      "Score : 0.09759237601741147\n",
      "Key : generate\n",
      "TF : 0.02702702702702703\n",
      "ITF : 3.6109179126442243\n",
      "Score : 0.09759237601741147\n",
      "Key : human\n",
      "TF : 0.02702702702702703\n",
      "ITF : 3.6109179126442243\n",
      "Score : 0.09759237601741147\n",
      "Key : language\n",
      "TF : 0.10810810810810811\n",
      "ITF : 0.9027294781610561\n",
      "Score : 0.09759237601741147\n",
      "Key : valuable\n",
      "TF : 0.02702702702702703\n",
      "ITF : 3.6109179126442243\n",
      "Score : 0.09759237601741147\n",
      "Key : way\n",
      "TF : 0.02702702702702703\n",
      "ITF : 3.6109179126442243\n",
      "Score : 0.09759237601741147\n",
      "Key : .\n",
      "TF : 0.08108108108108109\n",
      "ITF : 1.2036393042147415\n",
      "Score : 0.09759237601741148\n"
     ]
    }
   ],
   "source": [
    "for term in f_tokens:\n",
    "    print(\"Key :\",term)\n",
    "    print(\"TF :\",tf[term.lower()])\n",
    "    print(\"ITF :\",itf[term.lower()])\n",
    "    print(\"Score :\",score[term.lower()])"
   ]
  },
  {
   "cell_type": "code",
   "execution_count": null,
   "id": "69594a84-fee8-4b14-abe4-7be19bd29804",
   "metadata": {},
   "outputs": [],
   "source": []
  }
 ],
 "metadata": {
  "kernelspec": {
   "display_name": "Python 3 (ipykernel)",
   "language": "python",
   "name": "python3"
  },
  "language_info": {
   "codemirror_mode": {
    "name": "ipython",
    "version": 3
   },
   "file_extension": ".py",
   "mimetype": "text/x-python",
   "name": "python",
   "nbconvert_exporter": "python",
   "pygments_lexer": "ipython3",
   "version": "3.12.3"
  }
 },
 "nbformat": 4,
 "nbformat_minor": 5
}
