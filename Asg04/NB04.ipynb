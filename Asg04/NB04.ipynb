{
 "cells": [
  {
   "cell_type": "markdown",
   "id": "4bcca435-6b7f-4824-a069-7f49a1610459",
   "metadata": {},
   "source": [
    "**Notebook 4**\n",
    "Perform the following operation using titanic data set.\n",
    "1. check how the price of the ticket (column name: 'fare') for each\n",
    "passenger is distributed by plotting a histogram.\n",
    "2. plot a box plot for distribution of age with respect to each gender along\n",
    "with the information about whether they survived or not. (Column\n",
    "names : 'sex' and 'age')\n",
    "3. Write observations on the inference from the above statistics."
   ]
  },
  {
   "cell_type": "code",
   "execution_count": null,
   "id": "6589c100-1c47-4a0c-8aec-194d6696b85f",
   "metadata": {},
   "outputs": [],
   "source": [
    "import pandas as pd, numpy as np, seaborn as sns, matplotlib.pyplot as plt"
   ]
  },
  {
   "cell_type": "code",
   "execution_count": null,
   "id": "6b176b5e-a8c8-41bf-b6a7-ebf3b1091723",
   "metadata": {},
   "outputs": [],
   "source": [
    "df = pd.read_csv(\"../Final/Datasets/titanic.csv\")"
   ]
  },
  {
   "cell_type": "code",
   "execution_count": null,
   "id": "7708642a-9b14-44c2-a153-29b5c41b3bc7",
   "metadata": {},
   "outputs": [],
   "source": [
    "df.head(2)"
   ]
  },
  {
   "cell_type": "code",
   "execution_count": null,
   "id": "786339d9-bdb5-4c57-be3a-9e739449190e",
   "metadata": {},
   "outputs": [],
   "source": [
    "df.columns"
   ]
  },
  {
   "cell_type": "code",
   "execution_count": null,
   "id": "03696c35-eda8-4f40-a913-4132dace81e8",
   "metadata": {},
   "outputs": [],
   "source": [
    "df.isnull().sum()"
   ]
  },
  {
   "cell_type": "code",
   "execution_count": null,
   "id": "128ed9fd-7843-471e-8edc-06f8c03ac757",
   "metadata": {},
   "outputs": [],
   "source": [
    "print(df.shape)\n",
    "df.dropna(inplace=True)\n",
    "df.shape"
   ]
  },
  {
   "cell_type": "code",
   "execution_count": null,
   "id": "87492f12-1f47-4567-9895-c898731a9a33",
   "metadata": {},
   "outputs": [],
   "source": [
    "fig = plt.figure(figsize=(10,6))\n",
    "\n",
    "sns.histplot(x='Fare', bins=30, data = df, kde=True, line_kws={'color': 'crimson', 'lw': 3, 'ls': ':'})\n",
    "plt.xlabel('Fare of passengers')\n",
    "plt.ylabel('No of passengers')\n",
    "plt.title('Fare Frequency Distribution')"
   ]
  },
  {
   "cell_type": "code",
   "execution_count": null,
   "id": "e4e555d5-5bbe-4748-8698-0ed8c2dadef4",
   "metadata": {},
   "outputs": [],
   "source": [
    "sns.boxplot(data = df, x='Sex', y='Age', hue = 'Survived')"
   ]
  },
  {
   "cell_type": "code",
   "execution_count": null,
   "id": "2433077c-ea57-40aa-a265-2291621915a5",
   "metadata": {},
   "outputs": [],
   "source": [
    "df.boxplot(column = 'Age', by=['Sex','Survived'])"
   ]
  },
  {
   "cell_type": "code",
   "execution_count": null,
   "id": "d8fa9c29-220b-4d06-925a-22c9456aeda9",
   "metadata": {},
   "outputs": [],
   "source": []
  }
 ],
 "metadata": {
  "kernelspec": {
   "display_name": "Python 3 (ipykernel)",
   "language": "python",
   "name": "python3"
  },
  "language_info": {
   "codemirror_mode": {
    "name": "ipython",
    "version": 3
   },
   "file_extension": ".py",
   "mimetype": "text/x-python",
   "name": "python",
   "nbconvert_exporter": "python",
   "pygments_lexer": "ipython3",
   "version": "3.12.3"
  }
 },
 "nbformat": 4,
 "nbformat_minor": 5
}
